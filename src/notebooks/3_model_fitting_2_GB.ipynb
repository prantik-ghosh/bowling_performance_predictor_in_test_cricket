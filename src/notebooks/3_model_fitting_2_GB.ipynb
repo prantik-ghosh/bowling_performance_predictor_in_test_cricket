{
 "cells": [
  {
   "cell_type": "code",
   "execution_count": 1,
   "metadata": {},
   "outputs": [],
   "source": [
    "import numpy as np\n",
    "import pandas as pd\n",
    "import matplotlib.pyplot as plt\n",
    "from pandas.plotting import scatter_matrix\n",
    "\n",
    "from sklearn.ensemble import GradientBoostingRegressor\n",
    "from sklearn.model_selection import GridSearchCV\n",
    "from sklearn.metrics import r2_score\n",
    "from sklearn.metrics import explained_variance_score\n",
    "from sklearn.metrics import mean_squared_error\n",
    "\n",
    "%matplotlib inline"
   ]
  },
  {
   "cell_type": "code",
   "execution_count": 2,
   "metadata": {},
   "outputs": [],
   "source": [
    "def fit_gb_model(df, X_train, y_train, X_test, y_test, mask_test):\n",
    "    print (\"**** GRADIENT BOOSTING Grid Search ****\")\n",
    "    gradient_boosting_grid = {'max_depth': [3, None],\n",
    "                              'max_features': ['sqrt', 'log2', round(X_train.shape[1]/3), None],\n",
    "                              'n_estimators': [100,300,500],\n",
    "                              'learning_rate': [0.1,0.05,0.01],\n",
    "                              'subsample': [0.5,1.0],\n",
    "                              'random_state': [10]}\n",
    "    \n",
    "    gb_gridsearch = GridSearchCV(GradientBoostingRegressor(),\n",
    "                                 gradient_boosting_grid,\n",
    "                                 verbose=1,\n",
    "                                 scoring='neg_mean_squared_error')\n",
    "    gb_gridsearch.fit(X_train, y_train)\n",
    "    print(\"Best Parameters:\", gb_gridsearch.best_params_)\n",
    "    print(' ')\n",
    "    \n",
    "    best_gb_model = gb_gridsearch.best_estimator_\n",
    "    \n",
    "    feature_importance = {}\n",
    "    for label, importance in zip(X_train.columns, best_gb_model.feature_importances_):\n",
    "        feature_importance[label] = importance\n",
    "    print(\"Sorted Feature Importance:\")\n",
    "    sorted_feature_imp = sorted(feature_importance.items(), key=lambda x: (-x[1]))\n",
    "    for e in sorted_feature_imp:\n",
    "        print(e)\n",
    "    \n",
    "    y_pred_test = best_gb_model.predict(X_test)\n",
    "    df_test = pd.concat([df[mask_test][['player','wkts','year1_wkts_pm']].reset_index(),\n",
    "                         pd.DataFrame(y_pred_test).reset_index()],axis=1,)\n",
    "    df_test = df_test.drop('index',axis=1)\n",
    "    df_test.columns = ['player','wkts','wkts_baseline','wkts_exp']\n",
    "    \n",
    "    df_by_player = df_test.groupby('player').sum()\n",
    "    \n",
    "    print(' ')\n",
    "    print('Explained Variance (GB model): ' + str(explained_variance_score(df_by_player.wkts,df_by_player.wkts_exp)))\n",
    "    print('Explained Variance (Baseline): ' + str(explained_variance_score(df_by_player.wkts,df_by_player.wkts_baseline)))\n",
    "    print('----')\n",
    "    print('Mean Squared Error (GB model): ' + str(mean_squared_error(df_by_player.wkts,df_by_player.wkts_exp)))\n",
    "    print('Mean Squared Error (Baseline): ' + str(mean_squared_error(df_by_player.wkts,df_by_player.wkts_baseline)))\n",
    "    print('----')\n",
    "    print(' ')"
   ]
  },
  {
   "cell_type": "code",
   "execution_count": 3,
   "metadata": {
    "collapsed": true
   },
   "outputs": [],
   "source": [
    "def fitting_gb_models(file, test_yr):\n",
    "    df = pd.read_csv(file)\n",
    "    \n",
    "    mask_test = (df.year == test_yr)\n",
    "    mask_train = (df.year >= test_yr-6) & (df.year <= test_yr-1)\n",
    "    \n",
    "    target = 'wkts'\n",
    "    \n",
    "    features_full = ['year1_mtchs_pld', 'year2_mtchs_pld', 'year3_mtchs_pld', 'year4_mtchs_pld', 'year5_mtchs_pld',\n",
    "                     'year1_wkts_pm', 'year2_wkts_pm', 'year3_wkts_pm','year4_wkts_pm', 'year5_wkts_pm',\n",
    "                     'bowler_agnst_oppo', 'oppo_agnst_bowl_typ', 'bowl_home_adv', 'ground_bowl_typ']\n",
    "    features_small = ['year1_wkts_pm', 'year2_wkts_pm', 'year3_wkts_pm', 'year4_wkts_pm', 'year5_wkts_pm',\n",
    "                      'bowler_agnst_oppo', 'oppo_agnst_bowl_typ', 'bowl_home_adv', 'ground_bowl_typ']\n",
    "    features_smaller = ['year1_wkts_pm', 'year2_wkts_pm', 'year3_wkts_pm', 'year4_wkts_pm', 'year5_wkts_pm',\n",
    "                        'bowl_home_adv', 'ground_bowl_typ']\n",
    "    features_smallest = ['year1_wkts_pm', 'year2_wkts_pm', 'year3_wkts_pm', 'year4_wkts_pm', 'year5_wkts_pm']\n",
    "    \n",
    "    print(\"*********************************************\")\n",
    "    print(\"**** RUNNING MODELS FOR FULL FEATURE SET ****\")\n",
    "    print(\"*********************************************\")\n",
    "    \n",
    "    features = features_full.copy()\n",
    "    \n",
    "    X_train = df[mask_train][features]\n",
    "    y_train = df[mask_train][target]\n",
    "    X_test = df[mask_test][features]\n",
    "    y_test = df[mask_test][target]\n",
    "\n",
    "    fit_gb_model(df, X_train, y_train, X_test, y_test, mask_test)\n",
    "\n",
    "    \n",
    "    print(\"**********************************************\")\n",
    "    print(\"**** RUNNING MODELS FOR SMALL FEATURE SET ****\")\n",
    "    print(\"**********************************************\")\n",
    "    \n",
    "    features = features_small.copy()\n",
    "    \n",
    "    X_train = df[mask_train][features]\n",
    "    y_train = df[mask_train][target]\n",
    "    X_test = df[mask_test][features]\n",
    "    y_test = df[mask_test][target]\n",
    "\n",
    "    fit_gb_model(df, X_train, y_train, X_test, y_test, mask_test)\n",
    "\n",
    "\n",
    "    print(\"************************************************\")\n",
    "    print(\"**** RUNNING MODELS FOR SMALLER FEATURE SET ****\")\n",
    "    print(\"************************************************\")\n",
    "    \n",
    "    features = features_smaller.copy()\n",
    "    \n",
    "    X_train = df[mask_train][features]\n",
    "    y_train = df[mask_train][target]\n",
    "    X_test = df[mask_test][features]\n",
    "    y_test = df[mask_test][target]\n",
    "\n",
    "    fit_gb_model(df, X_train, y_train, X_test, y_test, mask_test)\n",
    "\n",
    "\n",
    "    print(\"*************************************************\")\n",
    "    print(\"**** RUNNING MODELS FOR SMALLEST FEATURE SET ****\")\n",
    "    print(\"*************************************************\")\n",
    "    \n",
    "    features = features_smallest.copy()\n",
    "    \n",
    "    X_train = df[mask_train][features]\n",
    "    y_train = df[mask_train][target]\n",
    "    X_test = df[mask_test][features]\n",
    "    y_test = df[mask_test][target]\n",
    "\n",
    "    fit_gb_model(df, X_train, y_train, X_test, y_test, mask_test)\n"
   ]
  },
  {
   "cell_type": "code",
   "execution_count": 4,
   "metadata": {},
   "outputs": [
    {
     "name": "stdout",
     "output_type": "stream",
     "text": [
      "*********************************************\n",
      "**** RUNNING MODELS FOR FULL FEATURE SET ****\n",
      "*********************************************\n",
      "**** GRADIENT BOOSTING Grid Search ****\n",
      "Fitting 3 folds for each of 144 candidates, totalling 432 fits\n"
     ]
    },
    {
     "name": "stderr",
     "output_type": "stream",
     "text": [
      "[Parallel(n_jobs=1)]: Done 432 out of 432 | elapsed:  4.4min finished\n"
     ]
    },
    {
     "name": "stdout",
     "output_type": "stream",
     "text": [
      "Best Parameters: {'learning_rate': 0.01, 'max_depth': 3, 'max_features': None, 'n_estimators': 100, 'random_state': 10, 'subsample': 0.5}\n",
      " \n",
      "Sorted Feature Importance:\n",
      "('year1_wkts_pm', 0.32176410210147638)\n",
      "('year3_wkts_pm', 0.11941823460148186)\n",
      "('year2_wkts_pm', 0.10672189024360308)\n",
      "('ground_bowl_typ', 0.098448041103819786)\n",
      "('year4_wkts_pm', 0.09440449571877052)\n",
      "('bowl_home_adv', 0.067639402537492177)\n",
      "('oppo_agnst_bowl_typ', 0.050116291857822175)\n",
      "('year1_mtchs_pld', 0.043014130070802452)\n",
      "('bowler_agnst_oppo', 0.029394859386856775)\n",
      "('year5_wkts_pm', 0.017764963441717928)\n",
      "('year2_mtchs_pld', 0.016109324098261556)\n",
      "('year4_mtchs_pld', 0.015198337067176158)\n",
      "('year5_mtchs_pld', 0.010950521320728103)\n",
      "('year3_mtchs_pld', 0.0090554064499909562)\n",
      " \n",
      "Explained Variance (GB model): 0.701626659209\n",
      "Explained Variance (Baseline): 0.229112985258\n",
      "----\n",
      "Mean Squared Error (GB model): 32.5924198761\n",
      "Mean Squared Error (Baseline): 98.4604956691\n",
      "----\n",
      " \n",
      "**********************************************\n",
      "**** RUNNING MODELS FOR SMALL FEATURE SET ****\n",
      "**********************************************\n",
      "**** GRADIENT BOOSTING Grid Search ****\n",
      "Fitting 3 folds for each of 144 candidates, totalling 432 fits\n"
     ]
    },
    {
     "name": "stderr",
     "output_type": "stream",
     "text": [
      "[Parallel(n_jobs=1)]: Done 432 out of 432 | elapsed:  3.6min finished\n"
     ]
    },
    {
     "name": "stdout",
     "output_type": "stream",
     "text": [
      "Best Parameters: {'learning_rate': 0.01, 'max_depth': 3, 'max_features': None, 'n_estimators': 100, 'random_state': 10, 'subsample': 0.5}\n",
      " \n",
      "Sorted Feature Importance:\n",
      "('year1_wkts_pm', 0.34551441682816597)\n",
      "('year3_wkts_pm', 0.12666815437498044)\n",
      "('ground_bowl_typ', 0.11978086938313692)\n",
      "('year2_wkts_pm', 0.11452893868501456)\n",
      "('year4_wkts_pm', 0.10008800656062998)\n",
      "('bowl_home_adv', 0.078291985375918319)\n",
      "('oppo_agnst_bowl_typ', 0.049735815165047575)\n",
      "('bowler_agnst_oppo', 0.040494446364356479)\n",
      "('year5_wkts_pm', 0.024897367262749857)\n",
      " \n",
      "Explained Variance (GB model): 0.70693336315\n",
      "Explained Variance (Baseline): 0.229112985258\n",
      "----\n",
      "Mean Squared Error (GB model): 31.7860121254\n",
      "Mean Squared Error (Baseline): 98.4604956691\n",
      "----\n",
      " \n",
      "************************************************\n",
      "**** RUNNING MODELS FOR SMALLER FEATURE SET ****\n",
      "************************************************\n",
      "**** GRADIENT BOOSTING Grid Search ****\n",
      "Fitting 3 folds for each of 144 candidates, totalling 432 fits\n"
     ]
    },
    {
     "name": "stderr",
     "output_type": "stream",
     "text": [
      "[Parallel(n_jobs=1)]: Done 432 out of 432 | elapsed:  3.0min finished\n"
     ]
    },
    {
     "name": "stdout",
     "output_type": "stream",
     "text": [
      "Best Parameters: {'learning_rate': 0.01, 'max_depth': 3, 'max_features': 'sqrt', 'n_estimators': 300, 'random_state': 10, 'subsample': 0.5}\n",
      " \n",
      "Sorted Feature Importance:\n",
      "('year1_wkts_pm', 0.22316102034368324)\n",
      "('ground_bowl_typ', 0.17525557966678768)\n",
      "('year3_wkts_pm', 0.13441313769981791)\n",
      "('bowl_home_adv', 0.12894090149135051)\n",
      "('year2_wkts_pm', 0.12869562070666229)\n",
      "('year4_wkts_pm', 0.12554356573052666)\n",
      "('year5_wkts_pm', 0.083990174361171469)\n",
      " \n",
      "Explained Variance (GB model): 0.696227782705\n",
      "Explained Variance (Baseline): 0.229112985258\n",
      "----\n",
      "Mean Squared Error (GB model): 33.5297164056\n",
      "Mean Squared Error (Baseline): 98.4604956691\n",
      "----\n",
      " \n",
      "*************************************************\n",
      "**** RUNNING MODELS FOR SMALLEST FEATURE SET ****\n",
      "*************************************************\n",
      "**** GRADIENT BOOSTING Grid Search ****\n",
      "Fitting 3 folds for each of 144 candidates, totalling 432 fits\n",
      "Best Parameters: {'learning_rate': 0.01, 'max_depth': 3, 'max_features': None, 'n_estimators': 100, 'random_state': 10, 'subsample': 1.0}\n",
      " \n",
      "Sorted Feature Importance:\n",
      "('year1_wkts_pm', 0.51890400388858249)\n",
      "('year4_wkts_pm', 0.15148710636398194)\n",
      "('year3_wkts_pm', 0.15003593989756572)\n",
      "('year2_wkts_pm', 0.12017786796128074)\n",
      "('year5_wkts_pm', 0.059395081888589038)\n",
      " \n",
      "Explained Variance (GB model): 0.700986399682\n",
      "Explained Variance (Baseline): 0.229112985258\n",
      "----\n",
      "Mean Squared Error (GB model): 32.468969484\n",
      "Mean Squared Error (Baseline): 98.4604956691\n",
      "----\n",
      " \n"
     ]
    },
    {
     "name": "stderr",
     "output_type": "stream",
     "text": [
      "[Parallel(n_jobs=1)]: Done 432 out of 432 | elapsed:  1.8min finished\n"
     ]
    }
   ],
   "source": [
    "input_file = 'data/bowling_data_enhanced.csv'\n",
    "fitting_gb_models(input_file, test_yr=2011)"
   ]
  },
  {
   "cell_type": "code",
   "execution_count": 5,
   "metadata": {},
   "outputs": [
    {
     "name": "stdout",
     "output_type": "stream",
     "text": [
      "*********************************************\n",
      "**** RUNNING MODELS FOR FULL FEATURE SET ****\n",
      "*********************************************\n",
      "**** GRADIENT BOOSTING Grid Search ****\n",
      "Fitting 3 folds for each of 144 candidates, totalling 432 fits\n"
     ]
    },
    {
     "name": "stderr",
     "output_type": "stream",
     "text": [
      "[Parallel(n_jobs=1)]: Done 432 out of 432 | elapsed:  4.2min finished\n"
     ]
    },
    {
     "name": "stdout",
     "output_type": "stream",
     "text": [
      "Best Parameters: {'learning_rate': 0.01, 'max_depth': 3, 'max_features': 'sqrt', 'n_estimators': 300, 'random_state': 10, 'subsample': 1.0}\n",
      " \n",
      "Sorted Feature Importance:\n",
      "('year1_wkts_pm', 0.18083474577364722)\n",
      "('year2_wkts_pm', 0.13378519662092669)\n",
      "('ground_bowl_typ', 0.12079001287208536)\n",
      "('year3_wkts_pm', 0.10405675840418278)\n",
      "('year4_wkts_pm', 0.081888114359831496)\n",
      "('bowl_home_adv', 0.073714229073621448)\n",
      "('bowler_agnst_oppo', 0.056256308604306172)\n",
      "('oppo_agnst_bowl_typ', 0.046365585796425003)\n",
      "('year5_wkts_pm', 0.042305232332310275)\n",
      "('year5_mtchs_pld', 0.040972854270818058)\n",
      "('year1_mtchs_pld', 0.038782740552872078)\n",
      "('year4_mtchs_pld', 0.029105330315106783)\n",
      "('year2_mtchs_pld', 0.027900066219275318)\n",
      "('year3_mtchs_pld', 0.023242824804591375)\n",
      " \n",
      "Explained Variance (GB model): 0.747907486054\n",
      "Explained Variance (Baseline): 0.436756427391\n",
      "----\n",
      "Mean Squared Error (GB model): 42.7058383058\n",
      "Mean Squared Error (Baseline): 95.0030779207\n",
      "----\n",
      " \n",
      "**********************************************\n",
      "**** RUNNING MODELS FOR SMALL FEATURE SET ****\n",
      "**********************************************\n",
      "**** GRADIENT BOOSTING Grid Search ****\n",
      "Fitting 3 folds for each of 144 candidates, totalling 432 fits\n"
     ]
    },
    {
     "name": "stderr",
     "output_type": "stream",
     "text": [
      "[Parallel(n_jobs=1)]: Done 432 out of 432 | elapsed:  3.4min finished\n"
     ]
    },
    {
     "name": "stdout",
     "output_type": "stream",
     "text": [
      "Best Parameters: {'learning_rate': 0.01, 'max_depth': 3, 'max_features': 'sqrt', 'n_estimators': 300, 'random_state': 10, 'subsample': 1.0}\n",
      " \n",
      "Sorted Feature Importance:\n",
      "('year1_wkts_pm', 0.21943354969184437)\n",
      "('ground_bowl_typ', 0.17076998986289119)\n",
      "('year2_wkts_pm', 0.16738389662048664)\n",
      "('year3_wkts_pm', 0.097082550332720605)\n",
      "('year4_wkts_pm', 0.089192052823753448)\n",
      "('bowl_home_adv', 0.0880965205131444)\n",
      "('bowler_agnst_oppo', 0.068490619542051281)\n",
      "('oppo_agnst_bowl_typ', 0.059309542718035915)\n",
      "('year5_wkts_pm', 0.040241277895072175)\n",
      " \n",
      "Explained Variance (GB model): 0.750494653793\n",
      "Explained Variance (Baseline): 0.436756427391\n",
      "----\n",
      "Mean Squared Error (GB model): 42.1382126345\n",
      "Mean Squared Error (Baseline): 95.0030779207\n",
      "----\n",
      " \n",
      "************************************************\n",
      "**** RUNNING MODELS FOR SMALLER FEATURE SET ****\n",
      "************************************************\n",
      "**** GRADIENT BOOSTING Grid Search ****\n",
      "Fitting 3 folds for each of 144 candidates, totalling 432 fits\n"
     ]
    },
    {
     "name": "stderr",
     "output_type": "stream",
     "text": [
      "[Parallel(n_jobs=1)]: Done 432 out of 432 | elapsed:  2.9min finished\n"
     ]
    },
    {
     "name": "stdout",
     "output_type": "stream",
     "text": [
      "Best Parameters: {'learning_rate': 0.01, 'max_depth': 3, 'max_features': 'sqrt', 'n_estimators': 300, 'random_state': 10, 'subsample': 1.0}\n",
      " \n",
      "Sorted Feature Importance:\n",
      "('year1_wkts_pm', 0.22115745820152985)\n",
      "('year2_wkts_pm', 0.1793531325310517)\n",
      "('ground_bowl_typ', 0.17712902961629592)\n",
      "('year3_wkts_pm', 0.13482763061374592)\n",
      "('bowl_home_adv', 0.11766618906479932)\n",
      "('year4_wkts_pm', 0.10800331792161133)\n",
      "('year5_wkts_pm', 0.061863242050965696)\n",
      " \n",
      "Explained Variance (GB model): 0.748605780824\n",
      "Explained Variance (Baseline): 0.436756427391\n",
      "----\n",
      "Mean Squared Error (GB model): 42.4705401272\n",
      "Mean Squared Error (Baseline): 95.0030779207\n",
      "----\n",
      " \n",
      "*************************************************\n",
      "**** RUNNING MODELS FOR SMALLEST FEATURE SET ****\n",
      "*************************************************\n",
      "**** GRADIENT BOOSTING Grid Search ****\n",
      "Fitting 3 folds for each of 144 candidates, totalling 432 fits\n",
      "Best Parameters: {'learning_rate': 0.01, 'max_depth': 3, 'max_features': 'sqrt', 'n_estimators': 300, 'random_state': 10, 'subsample': 0.5}\n",
      " \n",
      "Sorted Feature Importance:\n",
      "('year1_wkts_pm', 0.28811833401530712)\n",
      "('year2_wkts_pm', 0.22106068883491056)\n",
      "('year3_wkts_pm', 0.19344790483637922)\n",
      "('year5_wkts_pm', 0.15037020520726596)\n",
      "('year4_wkts_pm', 0.14700286710613697)\n",
      " \n",
      "Explained Variance (GB model): 0.752431810448\n",
      "Explained Variance (Baseline): 0.436756427391\n",
      "----\n",
      "Mean Squared Error (GB model): 41.812298279\n",
      "Mean Squared Error (Baseline): 95.0030779207\n",
      "----\n",
      " \n"
     ]
    },
    {
     "name": "stderr",
     "output_type": "stream",
     "text": [
      "[Parallel(n_jobs=1)]: Done 432 out of 432 | elapsed:  1.8min finished\n"
     ]
    }
   ],
   "source": [
    "fitting_gb_models(input_file, test_yr=2012)"
   ]
  },
  {
   "cell_type": "code",
   "execution_count": 6,
   "metadata": {},
   "outputs": [
    {
     "name": "stdout",
     "output_type": "stream",
     "text": [
      "*********************************************\n",
      "**** RUNNING MODELS FOR FULL FEATURE SET ****\n",
      "*********************************************\n",
      "**** GRADIENT BOOSTING Grid Search ****\n",
      "Fitting 3 folds for each of 144 candidates, totalling 432 fits\n"
     ]
    },
    {
     "name": "stderr",
     "output_type": "stream",
     "text": [
      "[Parallel(n_jobs=1)]: Done 432 out of 432 | elapsed:  4.3min finished\n"
     ]
    },
    {
     "name": "stdout",
     "output_type": "stream",
     "text": [
      "Best Parameters: {'learning_rate': 0.01, 'max_depth': 3, 'max_features': 5, 'n_estimators': 100, 'random_state': 10, 'subsample': 1.0}\n",
      " \n",
      "Sorted Feature Importance:\n",
      "('year1_wkts_pm', 0.26203265908532303)\n",
      "('year2_wkts_pm', 0.1865739954129518)\n",
      "('ground_bowl_typ', 0.12248196133179125)\n",
      "('year3_wkts_pm', 0.10751875676697742)\n",
      "('year4_wkts_pm', 0.05687020936777764)\n",
      "('bowl_home_adv', 0.053808782181693375)\n",
      "('year2_mtchs_pld', 0.044417580152885536)\n",
      "('year4_mtchs_pld', 0.038110736970471647)\n",
      "('year1_mtchs_pld', 0.037325844557336667)\n",
      "('oppo_agnst_bowl_typ', 0.027010357304129758)\n",
      "('year3_mtchs_pld', 0.022742022879422681)\n",
      "('bowler_agnst_oppo', 0.020803328807403619)\n",
      "('year5_wkts_pm', 0.01120606213970732)\n",
      "('year5_mtchs_pld', 0.0090977030421283672)\n",
      " \n",
      "Explained Variance (GB model): 0.8507287159\n",
      "Explained Variance (Baseline): 0.730165433366\n",
      "----\n",
      "Mean Squared Error (GB model): 28.6169957505\n",
      "Mean Squared Error (Baseline): 52.8757511112\n",
      "----\n",
      " \n",
      "**********************************************\n",
      "**** RUNNING MODELS FOR SMALL FEATURE SET ****\n",
      "**********************************************\n",
      "**** GRADIENT BOOSTING Grid Search ****\n",
      "Fitting 3 folds for each of 144 candidates, totalling 432 fits\n"
     ]
    },
    {
     "name": "stderr",
     "output_type": "stream",
     "text": [
      "[Parallel(n_jobs=1)]: Done 432 out of 432 | elapsed:  3.5min finished\n"
     ]
    },
    {
     "name": "stdout",
     "output_type": "stream",
     "text": [
      "Best Parameters: {'learning_rate': 0.01, 'max_depth': 3, 'max_features': 'sqrt', 'n_estimators': 100, 'random_state': 10, 'subsample': 1.0}\n",
      " \n",
      "Sorted Feature Importance:\n",
      "('year1_wkts_pm', 0.2927954508263067)\n",
      "('year2_wkts_pm', 0.19388890614473286)\n",
      "('ground_bowl_typ', 0.13730242374653656)\n",
      "('year3_wkts_pm', 0.12423732217660842)\n",
      "('year4_wkts_pm', 0.07378731330612362)\n",
      "('bowl_home_adv', 0.071254406330485506)\n",
      "('oppo_agnst_bowl_typ', 0.045085326142434205)\n",
      "('year5_wkts_pm', 0.034093020249190122)\n",
      "('bowler_agnst_oppo', 0.02755583107758186)\n",
      " \n",
      "Explained Variance (GB model): 0.850347138731\n",
      "Explained Variance (Baseline): 0.730165433366\n",
      "----\n",
      "Mean Squared Error (GB model): 28.7085867654\n",
      "Mean Squared Error (Baseline): 52.8757511112\n",
      "----\n",
      " \n",
      "************************************************\n",
      "**** RUNNING MODELS FOR SMALLER FEATURE SET ****\n",
      "************************************************\n",
      "**** GRADIENT BOOSTING Grid Search ****\n",
      "Fitting 3 folds for each of 144 candidates, totalling 432 fits\n"
     ]
    },
    {
     "name": "stderr",
     "output_type": "stream",
     "text": [
      "[Parallel(n_jobs=1)]: Done 432 out of 432 | elapsed:  2.9min finished\n"
     ]
    },
    {
     "name": "stdout",
     "output_type": "stream",
     "text": [
      "Best Parameters: {'learning_rate': 0.01, 'max_depth': 3, 'max_features': 'sqrt', 'n_estimators': 100, 'random_state': 10, 'subsample': 1.0}\n",
      " \n",
      "Sorted Feature Importance:\n",
      "('year1_wkts_pm', 0.26828890281711004)\n",
      "('year2_wkts_pm', 0.20900057284847967)\n",
      "('ground_bowl_typ', 0.16073639450070337)\n",
      "('year3_wkts_pm', 0.1372322255523058)\n",
      "('year4_wkts_pm', 0.0944360591327216)\n",
      "('bowl_home_adv', 0.08762545993297001)\n",
      "('year5_wkts_pm', 0.042680385215709611)\n",
      " \n",
      "Explained Variance (GB model): 0.85007772308\n",
      "Explained Variance (Baseline): 0.730165433366\n",
      "----\n",
      "Mean Squared Error (GB model): 28.7405505178\n",
      "Mean Squared Error (Baseline): 52.8757511112\n",
      "----\n",
      " \n",
      "*************************************************\n",
      "**** RUNNING MODELS FOR SMALLEST FEATURE SET ****\n",
      "*************************************************\n",
      "**** GRADIENT BOOSTING Grid Search ****\n",
      "Fitting 3 folds for each of 144 candidates, totalling 432 fits\n",
      "Best Parameters: {'learning_rate': 0.01, 'max_depth': 3, 'max_features': 'sqrt', 'n_estimators': 100, 'random_state': 10, 'subsample': 1.0}\n",
      " \n",
      "Sorted Feature Importance:\n",
      "('year1_wkts_pm', 0.39307155032690777)\n",
      "('year2_wkts_pm', 0.27185481409542239)\n",
      "('year3_wkts_pm', 0.17136443851363514)\n",
      "('year4_wkts_pm', 0.10556425971339327)\n",
      "('year5_wkts_pm', 0.058144937350641426)\n",
      " \n",
      "Explained Variance (GB model): 0.842021800637\n",
      "Explained Variance (Baseline): 0.730165433366\n",
      "----\n",
      "Mean Squared Error (GB model): 30.343221001\n",
      "Mean Squared Error (Baseline): 52.8757511112\n",
      "----\n",
      " \n"
     ]
    },
    {
     "name": "stderr",
     "output_type": "stream",
     "text": [
      "[Parallel(n_jobs=1)]: Done 432 out of 432 | elapsed:  1.8min finished\n"
     ]
    }
   ],
   "source": [
    "fitting_gb_models(input_file, test_yr=2013)"
   ]
  },
  {
   "cell_type": "code",
   "execution_count": 7,
   "metadata": {},
   "outputs": [
    {
     "name": "stdout",
     "output_type": "stream",
     "text": [
      "*********************************************\n",
      "**** RUNNING MODELS FOR FULL FEATURE SET ****\n",
      "*********************************************\n",
      "**** GRADIENT BOOSTING Grid Search ****\n",
      "Fitting 3 folds for each of 144 candidates, totalling 432 fits\n"
     ]
    },
    {
     "name": "stderr",
     "output_type": "stream",
     "text": [
      "[Parallel(n_jobs=1)]: Done 432 out of 432 | elapsed:  4.8min finished\n"
     ]
    },
    {
     "name": "stdout",
     "output_type": "stream",
     "text": [
      "Best Parameters: {'learning_rate': 0.01, 'max_depth': 3, 'max_features': None, 'n_estimators': 300, 'random_state': 10, 'subsample': 1.0}\n",
      " \n",
      "Sorted Feature Importance:\n",
      "('year1_wkts_pm', 0.21060028948592863)\n",
      "('ground_bowl_typ', 0.17670424062472981)\n",
      "('year2_wkts_pm', 0.11485940081946422)\n",
      "('bowler_agnst_oppo', 0.11149681520058441)\n",
      "('bowl_home_adv', 0.066230077426190359)\n",
      "('year4_wkts_pm', 0.060602846350996678)\n",
      "('year1_mtchs_pld', 0.054169873815558357)\n",
      "('year5_mtchs_pld', 0.043553136409471151)\n",
      "('oppo_agnst_bowl_typ', 0.039872502425078227)\n",
      "('year2_mtchs_pld', 0.036811014261812242)\n",
      "('year5_wkts_pm', 0.031901179987695372)\n",
      "('year3_mtchs_pld', 0.025843145993818248)\n",
      "('year3_wkts_pm', 0.023291378153189442)\n",
      "('year4_mtchs_pld', 0.004064099045482902)\n",
      " \n",
      "Explained Variance (GB model): 0.773996702567\n",
      "Explained Variance (Baseline): 0.381455572077\n",
      "----\n",
      "Mean Squared Error (GB model): 23.0432481323\n",
      "Mean Squared Error (Baseline): 69.4439037926\n",
      "----\n",
      " \n",
      "**********************************************\n",
      "**** RUNNING MODELS FOR SMALL FEATURE SET ****\n",
      "**********************************************\n",
      "**** GRADIENT BOOSTING Grid Search ****\n",
      "Fitting 3 folds for each of 144 candidates, totalling 432 fits\n"
     ]
    },
    {
     "name": "stderr",
     "output_type": "stream",
     "text": [
      "[Parallel(n_jobs=1)]: Done 432 out of 432 | elapsed:  3.8min finished\n"
     ]
    },
    {
     "name": "stdout",
     "output_type": "stream",
     "text": [
      "Best Parameters: {'learning_rate': 0.01, 'max_depth': 3, 'max_features': 'sqrt', 'n_estimators': 100, 'random_state': 10, 'subsample': 1.0}\n",
      " \n",
      "Sorted Feature Importance:\n",
      "('year1_wkts_pm', 0.31117925565361171)\n",
      "('year2_wkts_pm', 0.23137615693427044)\n",
      "('ground_bowl_typ', 0.17040970454378063)\n",
      "('year3_wkts_pm', 0.078866888008671698)\n",
      "('bowl_home_adv', 0.061415717499004673)\n",
      "('year4_wkts_pm', 0.061326429017417687)\n",
      "('bowler_agnst_oppo', 0.036273736765729439)\n",
      "('oppo_agnst_bowl_typ', 0.025212851958424376)\n",
      "('year5_wkts_pm', 0.023939259619089482)\n",
      " \n",
      "Explained Variance (GB model): 0.785285336418\n",
      "Explained Variance (Baseline): 0.381455572077\n",
      "----\n",
      "Mean Squared Error (GB model): 21.6067243231\n",
      "Mean Squared Error (Baseline): 69.4439037926\n",
      "----\n",
      " \n",
      "************************************************\n",
      "**** RUNNING MODELS FOR SMALLER FEATURE SET ****\n",
      "************************************************\n",
      "**** GRADIENT BOOSTING Grid Search ****\n",
      "Fitting 3 folds for each of 144 candidates, totalling 432 fits\n"
     ]
    },
    {
     "name": "stderr",
     "output_type": "stream",
     "text": [
      "[Parallel(n_jobs=1)]: Done 432 out of 432 | elapsed:  3.2min finished\n"
     ]
    },
    {
     "name": "stdout",
     "output_type": "stream",
     "text": [
      "Best Parameters: {'learning_rate': 0.01, 'max_depth': 3, 'max_features': 'sqrt', 'n_estimators': 300, 'random_state': 10, 'subsample': 1.0}\n",
      " \n",
      "Sorted Feature Importance:\n",
      "('year1_wkts_pm', 0.25040824521138016)\n",
      "('ground_bowl_typ', 0.22377376676746774)\n",
      "('year2_wkts_pm', 0.19491503631981941)\n",
      "('bowl_home_adv', 0.096349743635753604)\n",
      "('year3_wkts_pm', 0.091521756531363893)\n",
      "('year4_wkts_pm', 0.08565686008641113)\n",
      "('year5_wkts_pm', 0.057374591447803977)\n",
      " \n",
      "Explained Variance (GB model): 0.774261240283\n",
      "Explained Variance (Baseline): 0.381455572077\n",
      "----\n",
      "Mean Squared Error (GB model): 22.7745500148\n",
      "Mean Squared Error (Baseline): 69.4439037926\n",
      "----\n",
      " \n",
      "*************************************************\n",
      "**** RUNNING MODELS FOR SMALLEST FEATURE SET ****\n",
      "*************************************************\n",
      "**** GRADIENT BOOSTING Grid Search ****\n",
      "Fitting 3 folds for each of 144 candidates, totalling 432 fits\n",
      "Best Parameters: {'learning_rate': 0.01, 'max_depth': 3, 'max_features': 'sqrt', 'n_estimators': 300, 'random_state': 10, 'subsample': 1.0}\n",
      " \n",
      "Sorted Feature Importance:\n",
      "('year1_wkts_pm', 0.35891591173396742)\n",
      "('year2_wkts_pm', 0.2631687200513273)\n",
      "('year3_wkts_pm', 0.14881544781421344)\n",
      "('year4_wkts_pm', 0.11529342385737032)\n",
      "('year5_wkts_pm', 0.11380649654312189)\n",
      " \n",
      "Explained Variance (GB model): 0.744814075992\n",
      "Explained Variance (Baseline): 0.381455572077\n",
      "----\n",
      "Mean Squared Error (GB model): 25.8159516375\n",
      "Mean Squared Error (Baseline): 69.4439037926\n",
      "----\n",
      " \n"
     ]
    },
    {
     "name": "stderr",
     "output_type": "stream",
     "text": [
      "[Parallel(n_jobs=1)]: Done 432 out of 432 | elapsed:  1.9min finished\n"
     ]
    }
   ],
   "source": [
    "fitting_gb_models(input_file, test_yr=2014)"
   ]
  },
  {
   "cell_type": "code",
   "execution_count": 8,
   "metadata": {},
   "outputs": [
    {
     "name": "stdout",
     "output_type": "stream",
     "text": [
      "*********************************************\n",
      "**** RUNNING MODELS FOR FULL FEATURE SET ****\n",
      "*********************************************\n",
      "**** GRADIENT BOOSTING Grid Search ****\n",
      "Fitting 3 folds for each of 144 candidates, totalling 432 fits\n"
     ]
    },
    {
     "name": "stderr",
     "output_type": "stream",
     "text": [
      "[Parallel(n_jobs=1)]: Done 432 out of 432 | elapsed:  4.3min finished\n"
     ]
    },
    {
     "name": "stdout",
     "output_type": "stream",
     "text": [
      "Best Parameters: {'learning_rate': 0.01, 'max_depth': 3, 'max_features': 5, 'n_estimators': 300, 'random_state': 10, 'subsample': 0.5}\n",
      " \n",
      "Sorted Feature Importance:\n",
      "('ground_bowl_typ', 0.18192696555475227)\n",
      "('year1_wkts_pm', 0.15159052928218245)\n",
      "('year2_wkts_pm', 0.11060300510364143)\n",
      "('oppo_agnst_bowl_typ', 0.078118141722242532)\n",
      "('bowl_home_adv', 0.076103983785557369)\n",
      "('bowler_agnst_oppo', 0.073412765128638549)\n",
      "('year3_wkts_pm', 0.059361402263461871)\n",
      "('year1_mtchs_pld', 0.043647531820196254)\n",
      "('year4_wkts_pm', 0.04259149681289915)\n",
      "('year5_mtchs_pld', 0.042337716274796461)\n",
      "('year3_mtchs_pld', 0.036792030280743702)\n",
      "('year4_mtchs_pld', 0.035909820854499556)\n",
      "('year5_wkts_pm', 0.035365087145413469)\n",
      "('year2_mtchs_pld', 0.032239523970974959)\n",
      " \n",
      "Explained Variance (GB model): 0.79784996947\n",
      "Explained Variance (Baseline): 0.281107905196\n",
      "----\n",
      "Mean Squared Error (GB model): 33.0847358694\n",
      "Mean Squared Error (Baseline): 123.171196479\n",
      "----\n",
      " \n",
      "**********************************************\n",
      "**** RUNNING MODELS FOR SMALL FEATURE SET ****\n",
      "**********************************************\n",
      "**** GRADIENT BOOSTING Grid Search ****\n",
      "Fitting 3 folds for each of 144 candidates, totalling 432 fits\n"
     ]
    },
    {
     "name": "stderr",
     "output_type": "stream",
     "text": [
      "[Parallel(n_jobs=1)]: Done 432 out of 432 | elapsed:  3.4min finished\n"
     ]
    },
    {
     "name": "stdout",
     "output_type": "stream",
     "text": [
      "Best Parameters: {'learning_rate': 0.01, 'max_depth': 3, 'max_features': 'sqrt', 'n_estimators': 300, 'random_state': 10, 'subsample': 0.5}\n",
      " \n",
      "Sorted Feature Importance:\n",
      "('ground_bowl_typ', 0.21619821509087531)\n",
      "('year1_wkts_pm', 0.16863787214441239)\n",
      "('year2_wkts_pm', 0.13423997639824506)\n",
      "('bowl_home_adv', 0.10873906103218209)\n",
      "('oppo_agnst_bowl_typ', 0.0944400622008119)\n",
      "('bowler_agnst_oppo', 0.084753968911584945)\n",
      "('year3_wkts_pm', 0.078923576689089295)\n",
      "('year4_wkts_pm', 0.058791094789746826)\n",
      "('year5_wkts_pm', 0.055276172743052306)\n",
      " \n",
      "Explained Variance (GB model): 0.808931775951\n",
      "Explained Variance (Baseline): 0.281107905196\n",
      "----\n",
      "Mean Squared Error (GB model): 31.315471613\n",
      "Mean Squared Error (Baseline): 123.171196479\n",
      "----\n",
      " \n",
      "************************************************\n",
      "**** RUNNING MODELS FOR SMALLER FEATURE SET ****\n",
      "************************************************\n",
      "**** GRADIENT BOOSTING Grid Search ****\n",
      "Fitting 3 folds for each of 144 candidates, totalling 432 fits\n"
     ]
    },
    {
     "name": "stderr",
     "output_type": "stream",
     "text": [
      "[Parallel(n_jobs=1)]: Done 432 out of 432 | elapsed:  2.9min finished\n"
     ]
    },
    {
     "name": "stdout",
     "output_type": "stream",
     "text": [
      "Best Parameters: {'learning_rate': 0.01, 'max_depth': 3, 'max_features': 'sqrt', 'n_estimators': 300, 'random_state': 10, 'subsample': 0.5}\n",
      " \n",
      "Sorted Feature Importance:\n",
      "('ground_bowl_typ', 0.22920426735528215)\n",
      "('year1_wkts_pm', 0.20529252727633576)\n",
      "('year2_wkts_pm', 0.16451036644992473)\n",
      "('bowl_home_adv', 0.1336602818930597)\n",
      "('year3_wkts_pm', 0.11803115843017396)\n",
      "('year4_wkts_pm', 0.078251530525975402)\n",
      "('year5_wkts_pm', 0.071049868069248207)\n",
      " \n",
      "Explained Variance (GB model): 0.819785170646\n",
      "Explained Variance (Baseline): 0.281107905196\n",
      "----\n",
      "Mean Squared Error (GB model): 29.4710543083\n",
      "Mean Squared Error (Baseline): 123.171196479\n",
      "----\n",
      " \n",
      "*************************************************\n",
      "**** RUNNING MODELS FOR SMALLEST FEATURE SET ****\n",
      "*************************************************\n",
      "**** GRADIENT BOOSTING Grid Search ****\n",
      "Fitting 3 folds for each of 144 candidates, totalling 432 fits\n",
      "Best Parameters: {'learning_rate': 0.01, 'max_depth': 3, 'max_features': 'sqrt', 'n_estimators': 300, 'random_state': 10, 'subsample': 0.5}\n",
      " \n",
      "Sorted Feature Importance:\n",
      "('year1_wkts_pm', 0.31702505520740876)\n",
      "('year2_wkts_pm', 0.25891081233778679)\n",
      "('year3_wkts_pm', 0.17473767770336102)\n",
      "('year4_wkts_pm', 0.13116112263459315)\n",
      "('year5_wkts_pm', 0.11816533211684986)\n",
      " \n",
      "Explained Variance (GB model): 0.814223456672\n",
      "Explained Variance (Baseline): 0.281107905196\n",
      "----\n",
      "Mean Squared Error (GB model): 30.3807888485\n",
      "Mean Squared Error (Baseline): 123.171196479\n",
      "----\n",
      " \n"
     ]
    },
    {
     "name": "stderr",
     "output_type": "stream",
     "text": [
      "[Parallel(n_jobs=1)]: Done 432 out of 432 | elapsed:  1.8min finished\n"
     ]
    }
   ],
   "source": [
    "fitting_gb_models(input_file, test_yr=2015)"
   ]
  },
  {
   "cell_type": "code",
   "execution_count": 9,
   "metadata": {},
   "outputs": [
    {
     "name": "stdout",
     "output_type": "stream",
     "text": [
      "*********************************************\n",
      "**** RUNNING MODELS FOR FULL FEATURE SET ****\n",
      "*********************************************\n",
      "**** GRADIENT BOOSTING Grid Search ****\n",
      "Fitting 3 folds for each of 144 candidates, totalling 432 fits\n"
     ]
    },
    {
     "name": "stderr",
     "output_type": "stream",
     "text": [
      "[Parallel(n_jobs=1)]: Done 432 out of 432 | elapsed:  4.3min finished\n"
     ]
    },
    {
     "name": "stdout",
     "output_type": "stream",
     "text": [
      "Best Parameters: {'learning_rate': 0.01, 'max_depth': 3, 'max_features': 5, 'n_estimators': 300, 'random_state': 10, 'subsample': 1.0}\n",
      " \n",
      "Sorted Feature Importance:\n",
      "('ground_bowl_typ', 0.23332147269475126)\n",
      "('year1_wkts_pm', 0.1503192872484069)\n",
      "('year2_wkts_pm', 0.14300000126354562)\n",
      "('bowl_home_adv', 0.088654896809962497)\n",
      "('year3_wkts_pm', 0.078218717625581191)\n",
      "('year4_wkts_pm', 0.059326453400317072)\n",
      "('bowler_agnst_oppo', 0.058882856624906166)\n",
      "('year1_mtchs_pld', 0.050398024837073369)\n",
      "('oppo_agnst_bowl_typ', 0.038004424108171023)\n",
      "('year3_mtchs_pld', 0.029414667906748199)\n",
      "('year5_mtchs_pld', 0.022049026314974941)\n",
      "('year2_mtchs_pld', 0.020950243884001366)\n",
      "('year5_wkts_pm', 0.020863258155899674)\n",
      "('year4_mtchs_pld', 0.0065966691256604841)\n",
      " \n",
      "Explained Variance (GB model): 0.719994152868\n",
      "Explained Variance (Baseline): 0.620222303278\n",
      "----\n",
      "Mean Squared Error (GB model): 47.0016437724\n",
      "Mean Squared Error (Baseline): 64.357582933\n",
      "----\n",
      " \n",
      "**********************************************\n",
      "**** RUNNING MODELS FOR SMALL FEATURE SET ****\n",
      "**********************************************\n",
      "**** GRADIENT BOOSTING Grid Search ****\n",
      "Fitting 3 folds for each of 144 candidates, totalling 432 fits\n"
     ]
    },
    {
     "name": "stderr",
     "output_type": "stream",
     "text": [
      "[Parallel(n_jobs=1)]: Done 432 out of 432 | elapsed:  3.5min finished\n"
     ]
    },
    {
     "name": "stdout",
     "output_type": "stream",
     "text": [
      "Best Parameters: {'learning_rate': 0.01, 'max_depth': 3, 'max_features': 'sqrt', 'n_estimators': 300, 'random_state': 10, 'subsample': 0.5}\n",
      " \n",
      "Sorted Feature Importance:\n",
      "('ground_bowl_typ', 0.21669812826112883)\n",
      "('year1_wkts_pm', 0.14822826351069998)\n",
      "('year2_wkts_pm', 0.13754184109145332)\n",
      "('bowl_home_adv', 0.097169642996359051)\n",
      "('year3_wkts_pm', 0.096774160171517548)\n",
      "('bowler_agnst_oppo', 0.091817514162144079)\n",
      "('year4_wkts_pm', 0.080116441752603046)\n",
      "('oppo_agnst_bowl_typ', 0.079870906024540569)\n",
      "('year5_wkts_pm', 0.051783102029553746)\n",
      " \n",
      "Explained Variance (GB model): 0.751423141191\n",
      "Explained Variance (Baseline): 0.620222303278\n",
      "----\n",
      "Mean Squared Error (GB model): 41.8358495546\n",
      "Mean Squared Error (Baseline): 64.357582933\n",
      "----\n",
      " \n",
      "************************************************\n",
      "**** RUNNING MODELS FOR SMALLER FEATURE SET ****\n",
      "************************************************\n",
      "**** GRADIENT BOOSTING Grid Search ****\n",
      "Fitting 3 folds for each of 144 candidates, totalling 432 fits\n"
     ]
    },
    {
     "name": "stderr",
     "output_type": "stream",
     "text": [
      "[Parallel(n_jobs=1)]: Done 432 out of 432 | elapsed:  3.0min finished\n"
     ]
    },
    {
     "name": "stdout",
     "output_type": "stream",
     "text": [
      "Best Parameters: {'learning_rate': 0.01, 'max_depth': 3, 'max_features': 'sqrt', 'n_estimators': 300, 'random_state': 10, 'subsample': 0.5}\n",
      " \n",
      "Sorted Feature Importance:\n",
      "('ground_bowl_typ', 0.23665853240394591)\n",
      "('year1_wkts_pm', 0.17270876189368317)\n",
      "('year2_wkts_pm', 0.16644063632587991)\n",
      "('bowl_home_adv', 0.13178596674895374)\n",
      "('year3_wkts_pm', 0.12992751044112841)\n",
      "('year4_wkts_pm', 0.097764130448528025)\n",
      "('year5_wkts_pm', 0.064714461737880841)\n",
      " \n",
      "Explained Variance (GB model): 0.754879234626\n",
      "Explained Variance (Baseline): 0.620222303278\n",
      "----\n",
      "Mean Squared Error (GB model): 41.211564115\n",
      "Mean Squared Error (Baseline): 64.357582933\n",
      "----\n",
      " \n",
      "*************************************************\n",
      "**** RUNNING MODELS FOR SMALLEST FEATURE SET ****\n",
      "*************************************************\n",
      "**** GRADIENT BOOSTING Grid Search ****\n",
      "Fitting 3 folds for each of 144 candidates, totalling 432 fits\n",
      "Best Parameters: {'learning_rate': 0.01, 'max_depth': 3, 'max_features': 'sqrt', 'n_estimators': 300, 'random_state': 10, 'subsample': 0.5}\n",
      " \n",
      "Sorted Feature Importance:\n",
      "('year1_wkts_pm', 0.27058523113760019)\n",
      "('year2_wkts_pm', 0.27017443555344278)\n",
      "('year3_wkts_pm', 0.20061309914394901)\n",
      "('year4_wkts_pm', 0.15075778588508507)\n",
      "('year5_wkts_pm', 0.10786944827992308)\n",
      " \n",
      "Explained Variance (GB model): 0.724750144266\n",
      "Explained Variance (Baseline): 0.620222303278\n",
      "----\n",
      "Mean Squared Error (GB model): 46.2995438883\n",
      "Mean Squared Error (Baseline): 64.357582933\n",
      "----\n",
      " \n"
     ]
    },
    {
     "name": "stderr",
     "output_type": "stream",
     "text": [
      "[Parallel(n_jobs=1)]: Done 432 out of 432 | elapsed:  1.8min finished\n"
     ]
    }
   ],
   "source": [
    "fitting_gb_models(input_file, test_yr=2016)"
   ]
  },
  {
   "cell_type": "code",
   "execution_count": null,
   "metadata": {
    "collapsed": true
   },
   "outputs": [],
   "source": []
  }
 ],
 "metadata": {
  "kernelspec": {
   "display_name": "Python 3",
   "language": "python",
   "name": "python3"
  },
  "language_info": {
   "codemirror_mode": {
    "name": "ipython",
    "version": 3
   },
   "file_extension": ".py",
   "mimetype": "text/x-python",
   "name": "python",
   "nbconvert_exporter": "python",
   "pygments_lexer": "ipython3",
   "version": "3.6.2"
  }
 },
 "nbformat": 4,
 "nbformat_minor": 2
}
